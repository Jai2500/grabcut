{
 "cells": [
  {
   "cell_type": "markdown",
   "metadata": {},
   "source": [
    "## Importing the required functions"
   ]
  },
  {
   "cell_type": "code",
   "execution_count": 5,
   "metadata": {},
   "outputs": [],
   "source": [
    "from src.grabcut import *\r\n",
    "from src.event_handler import *"
   ]
  },
  {
   "cell_type": "markdown",
   "metadata": {},
   "source": [
    "## Defining the Main Loop"
   ]
  },
  {
   "cell_type": "code",
   "execution_count": 6,
   "metadata": {},
   "outputs": [],
   "source": [
    "def run(filename: str, num_iters: int = 5, n_components: int = 5, refine: bool = True, should_output: bool = False, gamma: float = 50, iseightconn:bool = True):\r\n",
    "    \"\"\"\r\n",
    "    Main loop that implements GrabCut. \r\n",
    "    \r\n",
    "    Input\r\n",
    "    -----\r\n",
    "    filename (str) : Path to image\r\n",
    "    \"\"\"\r\n",
    "    \r\n",
    "    COLORS = {\r\n",
    "    'BLACK' : [0,0,0],\r\n",
    "    'RED'   : [0, 0, 255],\r\n",
    "    'GREEN' : [0, 255, 0],\r\n",
    "    'BLUE'  : [255, 0, 0],\r\n",
    "    'WHITE' : [255,255,255]\r\n",
    "    }\r\n",
    "\r\n",
    "    DRAW_BG = {'color' : COLORS['BLACK'], 'val' : 0}\r\n",
    "    DRAW_FG = {'color' : COLORS['WHITE'], 'val' : 1}\r\n",
    "\r\n",
    "    FLAGS = {\r\n",
    "        'RECT' : (0, 0, 1, 1),\r\n",
    "        'DRAW_STROKE': False,         # flag for drawing strokes\r\n",
    "        'DRAW_RECT' : False,          # flag for drawing rectangle\r\n",
    "        'rect_over' : False,          # flag to check if rectangle is  drawn\r\n",
    "        'rect_or_mask' : -1,          # flag for selecting rectangle or stroke mode\r\n",
    "        'value' : DRAW_FG,            # drawing strokes initialized to mark foreground\r\n",
    "    }\r\n",
    "\r\n",
    "    img = cv2.imread(filename)\r\n",
    "    img2 = img.copy()                                \r\n",
    "    mask = np.zeros(img.shape[:2], dtype = np.uint8) # mask is a binary array with : 0 - background pixels\r\n",
    "                                                     #                               1 - foreground pixels \r\n",
    "    output = np.zeros(img.shape, np.uint8)           # output image to be shown\r\n",
    "\r\n",
    "    # Input and segmentation windows\r\n",
    "    cv2.namedWindow('Input Image')\r\n",
    "    # cv2.namedWindow('Segmented output')\r\n",
    "    \r\n",
    "    EventObj = EventHandler(FLAGS, img, mask, COLORS)\r\n",
    "    cv2.setMouseCallback('Input Image', EventObj.handler)\r\n",
    "    cv2.moveWindow('Input Image', img.shape[1] + 10, 90)\r\n",
    "    \r\n",
    "    gc = GrabCut(0.3, gamma=gamma)\r\n",
    "    gc.calculateBeta(img2)\r\n",
    "    Es = []\r\n",
    "\r\n",
    "    while(1):\r\n",
    "        \r\n",
    "        img = EventObj.image\r\n",
    "        mask = EventObj.mask\r\n",
    "        FLAGS = EventObj.flags\r\n",
    "        cv2.imshow('Segmented image', output)\r\n",
    "        cv2.imshow('Input Image', img)\r\n",
    "        \r\n",
    "        k = cv2.waitKey(1)\r\n",
    "\r\n",
    "        # key bindings\r\n",
    "        if k == 27:\r\n",
    "            # esc to exit\r\n",
    "            cv2.destroyAllWindows()\r\n",
    "            mask_final = gc.obtainFinalMask(mask)\r\n",
    "            mask2 = np.where((mask_final == 1), 255, 0).astype('uint8')\r\n",
    "            output = cv2.bitwise_and(img2, img2, mask = mask2)\r\n",
    "            return output, img, Es\r\n",
    "            break\r\n",
    "        \r\n",
    "        elif k == ord('0'): \r\n",
    "            # Strokes for background\r\n",
    "            FLAGS['value'] = DRAW_BG\r\n",
    "        \r\n",
    "        elif k == ord('1'):\r\n",
    "            # FG drawing\r\n",
    "            FLAGS['value'] = DRAW_FG\r\n",
    "        \r\n",
    "        elif k == ord('r'):\r\n",
    "            # reset everything\r\n",
    "            FLAGS['RECT'] = (0, 0, 1, 1)\r\n",
    "            FLAGS['DRAW_STROKE'] = False\r\n",
    "            FLAGS['DRAW_RECT'] = False\r\n",
    "            FLAGS['rect_or_mask'] = -1\r\n",
    "            FLAGS['rect_over'] = False\r\n",
    "            FLAGS['value'] = DRAW_FG\r\n",
    "            img = img2.copy()\r\n",
    "            mask = np.zeros(img.shape[:2], dtype = np.uint8) \r\n",
    "            EventObj.image = img\r\n",
    "            EventObj.mask = mask\r\n",
    "            output = np.zeros(img.shape, np.uint8)\r\n",
    "        \r\n",
    "        elif k == 13: \r\n",
    "            # Press carriage return to initiate segmentation\r\n",
    "        \r\n",
    "            EventObj.flags = FLAGS\r\n",
    "            should_fit = EventObj.should_fit\r\n",
    "\r\n",
    "            leftW, upleftW, upW, uprightW = gc.calcNweights(img2)\r\n",
    "\r\n",
    "            if should_fit:\r\n",
    "                Es.clear()\r\n",
    "                for i in tqdm.tqdm(range(num_iters)):\r\n",
    "                    bgdGMM, fgdGMM = gc.assign_and_learn_GMM(img2, mask, n_components=n_components)\r\n",
    "                    graph= gc.constructGCGraph(img2, mask, bgdGMM, fgdGMM, 9 * gc.gamma, leftW, upleftW, upW, uprightW, iseightconn=iseightconn)\r\n",
    "                    mask = gc.estimateSegmentation(graph, mask)\r\n",
    "                    E = gc.calcEs(img, mask, bgdGMM, fgdGMM, leftW, upleftW, upW, uprightW)\r\n",
    "                    Es.append(E)\r\n",
    "                EventObj.should_fit = False\r\n",
    "                # gc.should_fit = False\r\n",
    "            else:\r\n",
    "                if refine:\r\n",
    "                    bgdGMM, fgdGMM = gc.assign_and_learn_GMM(img2, mask, n_components=n_components)\r\n",
    "                graph = gc.constructGCGraph(img2, mask, bgdGMM, fgdGMM, 9 * gc.gamma, leftW, upleftW, upW, uprightW, iseightconn=iseightconn)\r\n",
    "                mask = gc.estimateSegmentation(graph, mask)\r\n",
    "                E = gc.calcEs(img, mask, bgdGMM, fgdGMM, leftW, upleftW, upW, uprightW)\r\n",
    "                Es.append(E)\r\n",
    "            \r\n",
    "            if should_output:\r\n",
    "                plt.plot(Es)\r\n",
    "                plt.show()\r\n",
    "            mask_final = gc.obtainFinalMask(mask)\r\n",
    "            print(\"Done\")\r\n",
    "\r\n",
    "            mask2 = np.where((mask_final == 1), 255, 0).astype('uint8')\r\n",
    "            output = cv2.bitwise_and(img2, img2, mask = mask2)\r\n"
   ]
  },
  {
   "cell_type": "markdown",
   "metadata": {},
   "source": [
    "## Running a test run"
   ]
  },
  {
   "cell_type": "code",
   "execution_count": 7,
   "metadata": {},
   "outputs": [
    {
     "name": "stderr",
     "output_type": "stream",
     "text": [
      "100%|██████████| 5/5 [00:58<00:00, 11.63s/it]\n"
     ]
    },
    {
     "name": "stdout",
     "output_type": "stream",
     "text": [
      "Done\n"
     ]
    }
   ],
   "source": [
    "filename = 'llama.jpg'   # Path to image file\r\n",
    "output, img, Es = run(filename)\r\n",
    "cv2.destroyAllWindows()"
   ]
  }
 ],
 "metadata": {
  "interpreter": {
   "hash": "b3ba2566441a7c06988d0923437866b63cedc61552a5af99d1f4fb67d367b25f"
  },
  "kernelspec": {
   "display_name": "Python 3.7.4 64-bit ('base': conda)",
   "name": "python3"
  },
  "language_info": {
   "codemirror_mode": {
    "name": "ipython",
    "version": 3
   },
   "file_extension": ".py",
   "mimetype": "text/x-python",
   "name": "python",
   "nbconvert_exporter": "python",
   "pygments_lexer": "ipython3",
   "version": "3.7.4"
  },
  "orig_nbformat": 4
 },
 "nbformat": 4,
 "nbformat_minor": 2
}